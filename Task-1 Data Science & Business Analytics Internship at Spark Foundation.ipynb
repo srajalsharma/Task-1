{
 "cells": [
  {
   "cell_type": "markdown",
   "metadata": {},
   "source": [
    " SRAJAL SHARMA, Data Science and Business Analytics Intern, \n",
    " The Sparks Foundation(GRIP-FEB21)\n",
    " TASK 1- Prediction using Supervised ML\n",
    " # Objective- To predict the percentage of a student based on the no. of study hours."
   ]
  },
  {
   "cell_type": "code",
   "execution_count": null,
   "metadata": {
    "scrolled": true
   },
   "outputs": [],
   "source": [
    "#Importing libraries\n",
    "import numpy as np\n",
    "import pandas as pd\n",
    "import matplotlib.pyplot as plt\n",
    "%matplotlib inline"
   ]
  },
  {
   "cell_type": "code",
   "execution_count": null,
   "metadata": {
    "scrolled": true
   },
   "outputs": [],
   "source": [
    "#Reading data from remote link\n",
    "url = \"http://bit.ly/w-data\"\n",
    "stu_data = pd.read_csv(url)\n",
    "print(\"Data imported successfully\")\n",
    "\n",
    "display(stu_data.head(10))"
   ]
  },
  {
   "cell_type": "code",
   "execution_count": null,
   "metadata": {
    "scrolled": true
   },
   "outputs": [],
   "source": [
    "#Plotting given data \n",
    "stu_data.plot(x='Hours', y='Scores',style='o')  \n",
    "plt.title('Hours vs Percentage')  \n",
    "plt.xlabel('Hours Studied')  \n",
    "plt.ylabel('Percentage Score')\n",
    "plt.grid()\n",
    "plt.show()"
   ]
  },
  {
   "cell_type": "markdown",
   "metadata": {},
   "source": [
    "From this graph we observe that there is a linear relationship between the variables 'Hours' and 'Scores'. Hence,  linear regression model can be used for further prediction."
   ]
  },
  {
   "cell_type": "code",
   "execution_count": null,
   "metadata": {
    "scrolled": true
   },
   "outputs": [],
   "source": [
    "#dividing dataset into arrays using iloc function\n",
    "x = stu_data.iloc[:, :1].values\n",
    "y = stu_data.iloc[:, 1:].values\n",
    "print('hours=',x)\n",
    "print('scores=',y)"
   ]
  },
  {
   "cell_type": "code",
   "execution_count": null,
   "metadata": {
    "scrolled": true
   },
   "outputs": [],
   "source": [
    "# spliting data into training and test datset using Scikit-Learn's built-in train_test_split() method:\n",
    "\n",
    "from sklearn.model_selection import train_test_split\n",
    "X_train, X_test , y_train ,y_test = train_test_split(x,y, test_size= 0.2, random_state=0)\n",
    "print('dataset has been splitted succesfully')"
   ]
  },
  {
   "cell_type": "code",
   "execution_count": null,
   "metadata": {
    "scrolled": true
   },
   "outputs": [],
   "source": [
    "#training the model\n",
    "\n",
    "from sklearn.linear_model import LinearRegression\n",
    "\n",
    "model = LinearRegression()\n",
    "model.fit(X_train, y_train)\n",
    "print('training completed')"
   ]
  },
  {
   "cell_type": "code",
   "execution_count": null,
   "metadata": {
    "scrolled": true
   },
   "outputs": [],
   "source": [
    "# Visualising model by plotting the regression line \n",
    "\n",
    "line = model.coef_*x+model.intercept_\n",
    "\n",
    "plt.scatter(X_train, y_train)\n",
    "plt.plot(x, line, color='red')\n",
    "plt.xlabel('Hours Studied')\n",
    "plt.ylabel('Percentage Score')\n",
    "plt.grid()\n",
    "plt.show()"
   ]
  },
  {
   "cell_type": "code",
   "execution_count": null,
   "metadata": {
    "scrolled": true
   },
   "outputs": [],
   "source": [
    "#predicting scores y on the basis of given hours x\n",
    "\n",
    "print('For given values x_test:')\n",
    "print(X_test)\n",
    "y_pred = model.predict(X_test)  \n",
    "print('The predicted values of y_test are:')\n",
    "print(y_pred)"
   ]
  },
  {
   "cell_type": "code",
   "execution_count": null,
   "metadata": {
    "scrolled": true
   },
   "outputs": [],
   "source": [
    "# Comparing Actual and Predicted values \n",
    "\n",
    "comp = pd.DataFrame({ 'Actual':y_test.tolist(), 'Predicted':y_pred.tolist()})\n",
    "display(comp)\n"
   ]
  },
  {
   "cell_type": "code",
   "execution_count": null,
   "metadata": {
    "scrolled": true
   },
   "outputs": [],
   "source": [
    "#predicting score for 9.25 hours of study\n",
    "\n",
    "hours = 9.25\n",
    "req_pred = model.predict([[hours]])\n",
    "print('The predicted score of a student who studies for',hours,'hours, is ',req_pred[0])"
   ]
  },
  {
   "cell_type": "code",
   "execution_count": null,
   "metadata": {
    "scrolled": true
   },
   "outputs": [],
   "source": [
    "#Evaluating absolute mean error and accuracy of the model\n",
    "\n",
    "from sklearn import metrics  \n",
    "print('Mean Absolute Error:',metrics.mean_absolute_error(y_test, y_pred)) \n",
    "#Accuracy of the model\n",
    "accuracy = model.score(X_test,y_test)\n",
    "print(\"Accuracy of model : \",accuracy*100,'%')"
   ]
  },
  {
   "cell_type": "code",
   "execution_count": null,
   "metadata": {
    "scrolled": true
   },
   "outputs": [],
   "source": []
  },
  {
   "cell_type": "code",
   "execution_count": null,
   "metadata": {
    "scrolled": true
   },
   "outputs": [],
   "source": []
  }
 ],
 "metadata": {
  "kernelspec": {
   "display_name": "Python 3",
   "language": "python",
   "name": "python3"
  },
  "language_info": {
   "codemirror_mode": {
    "name": "ipython",
    "version": 3
   },
   "file_extension": ".py",
   "mimetype": "text/x-python",
   "name": "python",
   "nbconvert_exporter": "python",
   "pygments_lexer": "ipython3",
   "version": "3.8.5"
  }
 },
 "nbformat": 4,
 "nbformat_minor": 4
}
